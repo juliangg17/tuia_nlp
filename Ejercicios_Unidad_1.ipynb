{
  "nbformat": 4,
  "nbformat_minor": 0,
  "metadata": {
    "colab": {
      "provenance": [],
      "collapsed_sections": [
        "lhuGzsbirIgd",
        "AGOgx5Dtu4FI",
        "RjOdilQfdKbk",
        "WRN4yDIMxzNX",
        "8TTACwZd2HgE",
        "ENgwsXEuUB5y",
        "KCniKurnUOdA",
        "_qC4MrnOUZUw",
        "96lIpZW-sqKu"
      ]
    },
    "kernelspec": {
      "name": "python3",
      "display_name": "Python 3"
    },
    "language_info": {
      "name": "python"
    }
  },
  "cells": [
    {
      "cell_type": "markdown",
      "source": [
        "# Unidad 1 - Extracción y Procesamiento de Texto"
      ],
      "metadata": {
        "id": "tOaN5GjuaE3w"
      }
    },
    {
      "cell_type": "markdown",
      "source": [
        "Para todos los ejercicios de web scraping contemple usar un temporizador para no\n",
        "matar los sitios con las consultas."
      ],
      "metadata": {
        "id": "zhSIOOo7aLn3"
      }
    },
    {
      "cell_type": "markdown",
      "source": [
        "## Librerías"
      ],
      "metadata": {
        "id": "lhuGzsbirIgd"
      }
    },
    {
      "cell_type": "markdown",
      "source": [
        "Se utilizarán las siguientes librerías y paquete a lo largo de los siguientes ejercicios:"
      ],
      "metadata": {
        "id": "UCTqCLmRrMyN"
      }
    },
    {
      "cell_type": "code",
      "source": [
        "!apt-get update -qq\n",
        "!apt-get install -qq poppler-utils\n",
        "!apt-get install -qq tesseract-ocr\n",
        "\n",
        "!pip install PyPDF2\n",
        "!pip install pdf2image\n",
        "!pip install Pillow\n",
        "!pip install pytesseract\n",
        "\n",
        "!pip install easyocr\n",
        "!pip install python-docx\n",
        "\n",
        "!pip install SpeechRecognition\n",
        "\n",
        "!pip install beautifulsoup4\n",
        "!pip install requests\n",
        "\n",
        "!pip install autocorrect\n",
        "!pip install pyspellchecker\n",
        "!pip install textblob\n",
        "\n",
        "!which pdfinfo\n",
        "!which tesseract\n",
        "\n",
        "# Configurar en español\n",
        "!wget https://github.com/tesseract-ocr/tessdata/raw/main/spa.traineddata\n",
        "!mv spa.traineddata /usr/local/share/tessdata/"
      ],
      "metadata": {
        "id": "awDnzr6_rgyw"
      },
      "execution_count": null,
      "outputs": []
    },
    {
      "cell_type": "code",
      "source": [
        "import os\n",
        "from google.colab import drive\n",
        "\n",
        "from pdf2image import convert_from_path\n",
        "from PIL import Image\n",
        "import pytesseract\n",
        "import easyocr\n",
        "from docx import Document\n",
        "\n",
        "import speech_recognition as sr\n",
        "\n",
        "import pandas as pd\n",
        "import requests\n",
        "from bs4 import BeautifulSoup\n",
        "import re\n",
        "\n",
        "from textblob import TextBlob\n",
        "from autocorrect import Speller\n",
        "from spellchecker import SpellChecker\n",
        "\n",
        "from IPython.display import display, Markdown\n",
        "\n",
        "import PyPDF2"
      ],
      "metadata": {
        "id": "iNQC5QAPrHyk"
      },
      "execution_count": 38,
      "outputs": []
    },
    {
      "cell_type": "markdown",
      "source": [
        "## Ruta de acceso principal"
      ],
      "metadata": {
        "id": "AGOgx5Dtu4FI"
      }
    },
    {
      "cell_type": "markdown",
      "source": [
        "Se utilizará la siguiente ruta para acceso a los archivos del trabajo:"
      ],
      "metadata": {
        "id": "-uCXym4gu8Ps"
      }
    },
    {
      "cell_type": "code",
      "source": [
        "drive.mount('/content/drive')\n",
        "ruta='/content/drive/MyDrive/TUIA/IA4.2 NLP/Unidad 1/'\n"
      ],
      "metadata": {
        "colab": {
          "base_uri": "https://localhost:8080/"
        },
        "id": "aFRNBBQHakND",
        "outputId": "d0e675ee-dff8-429a-868c-e6318fc1161f"
      },
      "execution_count": 39,
      "outputs": [
        {
          "output_type": "stream",
          "name": "stdout",
          "text": [
            "Drive already mounted at /content/drive; to attempt to forcibly remount, call drive.mount(\"/content/drive\", force_remount=True).\n"
          ]
        }
      ]
    },
    {
      "cell_type": "markdown",
      "source": [
        "## Ejercicio 0\n",
        "En el campus se encuentran dos archivos en la carpeta “Ejemplos\n",
        "codificación”. Investíguelos con las herramientas vistas en clase. Puede usar\n",
        "también la herramienta hexdump para verlos por dentro."
      ],
      "metadata": {
        "id": "hVuE93ZyaOaX"
      }
    },
    {
      "cell_type": "code",
      "execution_count": 40,
      "metadata": {
        "id": "9QET9u4MZfGI",
        "colab": {
          "base_uri": "https://localhost:8080/"
        },
        "outputId": "272ddb8d-238e-4e0e-9154-7fd50bbf8627"
      },
      "outputs": [
        {
          "output_type": "stream",
          "name": "stdout",
          "text": [
            "Cómo estas\n",
            "\n"
          ]
        }
      ],
      "source": [
        "file_path = ruta+'EJEMPLO DE UTF-8.txt'\n",
        "\n",
        "# Abre el archivo en modo de lectura ('r')\n",
        "with open(file_path, 'r', encoding='utf-8') as archivo:\n",
        "    # Lee todo el contenido del archivo\n",
        "    contenido = archivo.read()\n",
        "\n",
        "# Imprime el contenido del archivo\n",
        "print(contenido)"
      ]
    },
    {
      "cell_type": "code",
      "source": [
        "file_path = ruta+'EJEMPLO DE 8859-15.txt'\n",
        "\n",
        "# Abre el archivo en modo de lectura ('r')\n",
        "with open(file_path, 'r', encoding='iso-8859-1') as archivo:\n",
        "    # Lee todo el contenido del archivo\n",
        "    contenido = archivo.read()\n",
        "\n",
        "# Imprime el contenido del archivo\n",
        "print(contenido)"
      ],
      "metadata": {
        "colab": {
          "base_uri": "https://localhost:8080/"
        },
        "id": "mFkDE267bldc",
        "outputId": "8693f5d0-aa28-497f-9a8d-5adfdf4be99c"
      },
      "execution_count": null,
      "outputs": [
        {
          "output_type": "stream",
          "name": "stdout",
          "text": [
            "Cómo estás\n",
            "\n"
          ]
        }
      ]
    },
    {
      "cell_type": "markdown",
      "source": [
        "Pruebe intencionalmente abrir el archivo con la codificación equivocada (abra el\n",
        "UTF-8 como 8859-15) y compare las salidas."
      ],
      "metadata": {
        "id": "bLVKVqjCcHvr"
      }
    },
    {
      "cell_type": "code",
      "source": [
        "file_path = ruta+'EJEMPLO DE UTF-8.txt'\n",
        "\n",
        "# Abre el archivo en modo de lectura ('r')\n",
        "with open(file_path, 'r', encoding='iso-8859-1') as archivo:\n",
        "    # Lee todo el contenido del archivo\n",
        "    contenido = archivo.read()\n",
        "\n",
        "# Imprime el contenido del archivo\n",
        "print(contenido)"
      ],
      "metadata": {
        "colab": {
          "base_uri": "https://localhost:8080/"
        },
        "id": "xfa-YgR_cKL9",
        "outputId": "f58ee1d7-3445-4208-8b0d-33f334425c6c"
      },
      "execution_count": null,
      "outputs": [
        {
          "output_type": "stream",
          "name": "stdout",
          "text": [
            "CÃ³mo estas\n",
            "\n"
          ]
        }
      ]
    },
    {
      "cell_type": "markdown",
      "source": [
        "## Ejercicio 1\n",
        "Con los archivos pedidos en diferentes formatos (pdf, jpg, ...otros) la\n",
        "clase anterior, extraiga la información que considere relevante de los mismos utilizando las librerías desarrolladas en clase."
      ],
      "metadata": {
        "id": "1JXrccVzc9yd"
      }
    },
    {
      "cell_type": "markdown",
      "source": [
        "### i.\n",
        "Obtenga texto de un libro escaneado en pdf (un pdf que no tenga el texto\n",
        "codificado como tal, es decir, que sea necesario usar ocr). Pruebe usando\n",
        "pytesseract en ingles (por defecto) y luego configurándolo en español."
      ],
      "metadata": {
        "id": "RjOdilQfdKbk"
      }
    },
    {
      "cell_type": "code",
      "source": [
        "# Ruta al archivo PDF\n",
        "archivo_pdf = ruta+'ej 1-i.pdf'\n",
        "\n",
        "# Convierte el PDF en una lista de imágenes\n",
        "imagenes = convert_from_path(archivo_pdf)\n",
        "\n",
        "# Guarda las imágenes\n",
        "for i, imagen in enumerate(imagenes):\n",
        "    imagen.save('pagina{}.png'.format(i), 'PNG')\n",
        "\n",
        "# Ruta a la imagen\n",
        "archivo_imagen = 'pagina0.png'\n",
        "\n",
        "# Abre la imagen\n",
        "imagen = Image.open(archivo_imagen)\n",
        "\n",
        "# Usa pytesseract para convertir la imagen en texto\n",
        "texto = pytesseract.image_to_string(imagen)\n",
        "\n",
        "# Imprime el texto extraído\n",
        "print(texto)"
      ],
      "metadata": {
        "id": "OMCsuPhKfeHC"
      },
      "execution_count": null,
      "outputs": []
    },
    {
      "cell_type": "code",
      "source": [
        "#VER ERROR\n",
        "texto = pytesseract.image_to_string(imagen, lang='spa')\n",
        "print(texto)"
      ],
      "metadata": {
        "id": "7xK26pVDwZcO"
      },
      "execution_count": null,
      "outputs": []
    },
    {
      "cell_type": "markdown",
      "source": [
        "### ii.\n",
        "Obtenga texto de una imagen (png, bmp)."
      ],
      "metadata": {
        "id": "WRN4yDIMxzNX"
      }
    },
    {
      "cell_type": "code",
      "source": [
        "# Crea un lector OCR en español\n",
        "lector = easyocr.Reader(['es'])\n",
        "\n",
        "# Ruta a la imagen\n",
        "archivo_imagen = ruta+'api.bmp'\n",
        "\n",
        "# Usa EasyOCR para convertir la imagen en texto\n",
        "resultado = lector.readtext(archivo_imagen)\n",
        "\n",
        "# El resultado es una lista de tuplas, donde cada tupla representa un bloque de texto.\n",
        "# La primera posición de la tupla es la ubicación del bloque de texto en la imagen,\n",
        "# y la segunda posición es el texto en sí.\n",
        "\n",
        "# Imprime el texto extraído\n",
        "for ubicacion, texto, _ in resultado:\n",
        "    print(f\"Texto: {texto}, Ubicación: {ubicacion}\")"
      ],
      "metadata": {
        "id": "8ZuX015pygbI"
      },
      "execution_count": null,
      "outputs": []
    },
    {
      "cell_type": "markdown",
      "source": [
        "### iii.\n",
        "Obtenga texto de un archivo word."
      ],
      "metadata": {
        "id": "8TTACwZd2HgE"
      }
    },
    {
      "cell_type": "code",
      "source": [
        "# Abre el archivo DOCX\n",
        "doc = Document(ruta+'prueba.docx')\n",
        "\n",
        "# Extrae el texto de cada párrafo en el documento\n",
        "for parrafo in doc.paragraphs:\n",
        "    print(parrafo.text)"
      ],
      "metadata": {
        "colab": {
          "base_uri": "https://localhost:8080/"
        },
        "id": "KVBdMmNy2OpJ",
        "outputId": "11ddfd83-3053-46d2-f992-f2c7e1ea1b12"
      },
      "execution_count": null,
      "outputs": [
        {
          "output_type": "stream",
          "name": "stdout",
          "text": [
            "Si estás leyendo esto es porque todo funciona muy bien.\n"
          ]
        }
      ]
    },
    {
      "cell_type": "markdown",
      "source": [
        "### iv.\n",
        "Obtenga texto de un archivo de audio."
      ],
      "metadata": {
        "id": "rlX4C9ti3EK4"
      }
    },
    {
      "cell_type": "code",
      "source": [
        "# Crea un objeto Recognizer\n",
        "r = sr.Recognizer()\n",
        "\n",
        "# Abre el archivo de audio\n",
        "with sr.AudioFile(ruta+'audio1.wav') as source:\n",
        "    # Lee el archivo de audio\n",
        "    audio_data = r.record(source)\n",
        "    # Transcribe el audio a texto\n",
        "    texto = r.recognize_google(audio_data, language=\"es-ES\")\n",
        "    print(texto)"
      ],
      "metadata": {
        "colab": {
          "base_uri": "https://localhost:8080/"
        },
        "id": "C8ENsJbx3d_s",
        "outputId": "f6da69b1-d78e-41b9-a775-4eff62a30860"
      },
      "execution_count": null,
      "outputs": [
        {
          "output_type": "stream",
          "name": "stdout",
          "text": [
            "qué tal Juli dale bárbaro eh yo probablemente hoy te estoy subiendo todas las barandas y algunas pasarelas no sé cuál es pero no voy a llegar al total total de la info\n"
          ]
        }
      ]
    },
    {
      "cell_type": "markdown",
      "source": [
        "## Ejercicio 2\n",
        "El Ministerio de Turismo y Deportes de la Nación permite explorar\n",
        "tableros de información en línea tableros.yvera.tur.ar. Explore la página y utilizando una librería de web scraping extraiga los valores del tablero de indicadores de\n",
        "Objetivos de Desarrollo Sostenible en una tabla y el texto limpio de la metodología\n",
        "de los mismos."
      ],
      "metadata": {
        "id": "ENgwsXEuUB5y"
      }
    },
    {
      "cell_type": "code",
      "source": [
        "url = \"https://tableros.yvera.tur.ar/tablero_ODS/\"\n",
        "\n",
        "response = requests.get(url, verify=False)\n",
        "response.encoding = 'utf-8'  # Establece la codificación a utf-8\n",
        "soup = BeautifulSoup(response.text, 'html.parser') # Desactivar verificación SSL\n",
        "\n",
        "# Encuentra todos los elementos <div> con la clase \"jsx-3759278058 f4\"\n",
        "data = soup.find_all('div', class_='inner')\n",
        "\n",
        "data_list = []\n",
        "for div in data:\n",
        "    valor_text = div.text.strip().split('\\n\\n\\n')[0]\n",
        "    valor = re.sub(r'[^\\d,]', '', valor_text)  # Extrae solo los números y puntos decimales\n",
        "    descripcion = div.text.strip().split('\\n\\n\\n')[1] if len(div.text.strip().split('\\n\\n\\n')) > 1 else None\n",
        "    div_data = {\n",
        "        'valor': valor,\n",
        "        'descripcion': descripcion\n",
        "    }\n",
        "    data_list.append(div_data)\n",
        "\n",
        "df = pd.DataFrame(data_list)\n",
        "df"
      ],
      "metadata": {
        "colab": {
          "base_uri": "https://localhost:8080/",
          "height": 323
        },
        "id": "Q0XvQtoqfuKv",
        "outputId": "2052b722-f438-4ce1-e084-bf0f7ce68ce0"
      },
      "execution_count": 42,
      "outputs": [
        {
          "output_type": "stream",
          "name": "stderr",
          "text": [
            "/usr/local/lib/python3.10/dist-packages/urllib3/connectionpool.py:1100: InsecureRequestWarning: Unverified HTTPS request is being made to host 'tableros.yvera.tur.ar'. Adding certificate verification is strongly advised. See: https://urllib3.readthedocs.io/en/latest/advanced-usage.html#tls-warnings\n",
            "  warnings.warn(\n"
          ]
        },
        {
          "output_type": "execute_result",
          "data": {
            "text/plain": [
              "   valor                                        descripcion\n",
              "0    1,2  Puestos de trabajo en industrias turísticas (2...\n",
              "1  44,43  Tasa de informalidad del empleo asalariado tur...\n",
              "2   1,68        PIB turístico respecto del PIB total (2022)\n",
              "3   33,2                         Propensión a viajar (2022)\n",
              "4   34,1         Índice de Gini de viajes turísticos (2022)\n",
              "5   36,4  Índice de Gini de viajes turísticos de ocio (2...\n",
              "6   44,1          Índice de Gini del gasto turístico (2022)"
            ],
            "text/html": [
              "\n",
              "  <div id=\"df-e26baf53-a311-46a9-8646-a9521b4a8d05\" class=\"colab-df-container\">\n",
              "    <div>\n",
              "<style scoped>\n",
              "    .dataframe tbody tr th:only-of-type {\n",
              "        vertical-align: middle;\n",
              "    }\n",
              "\n",
              "    .dataframe tbody tr th {\n",
              "        vertical-align: top;\n",
              "    }\n",
              "\n",
              "    .dataframe thead th {\n",
              "        text-align: right;\n",
              "    }\n",
              "</style>\n",
              "<table border=\"1\" class=\"dataframe\">\n",
              "  <thead>\n",
              "    <tr style=\"text-align: right;\">\n",
              "      <th></th>\n",
              "      <th>valor</th>\n",
              "      <th>descripcion</th>\n",
              "    </tr>\n",
              "  </thead>\n",
              "  <tbody>\n",
              "    <tr>\n",
              "      <th>0</th>\n",
              "      <td>1,2</td>\n",
              "      <td>Puestos de trabajo en industrias turísticas (2...</td>\n",
              "    </tr>\n",
              "    <tr>\n",
              "      <th>1</th>\n",
              "      <td>44,43</td>\n",
              "      <td>Tasa de informalidad del empleo asalariado tur...</td>\n",
              "    </tr>\n",
              "    <tr>\n",
              "      <th>2</th>\n",
              "      <td>1,68</td>\n",
              "      <td>PIB turístico respecto del PIB total (2022)</td>\n",
              "    </tr>\n",
              "    <tr>\n",
              "      <th>3</th>\n",
              "      <td>33,2</td>\n",
              "      <td>Propensión a viajar (2022)</td>\n",
              "    </tr>\n",
              "    <tr>\n",
              "      <th>4</th>\n",
              "      <td>34,1</td>\n",
              "      <td>Índice de Gini de viajes turísticos (2022)</td>\n",
              "    </tr>\n",
              "    <tr>\n",
              "      <th>5</th>\n",
              "      <td>36,4</td>\n",
              "      <td>Índice de Gini de viajes turísticos de ocio (2...</td>\n",
              "    </tr>\n",
              "    <tr>\n",
              "      <th>6</th>\n",
              "      <td>44,1</td>\n",
              "      <td>Índice de Gini del gasto turístico (2022)</td>\n",
              "    </tr>\n",
              "  </tbody>\n",
              "</table>\n",
              "</div>\n",
              "    <div class=\"colab-df-buttons\">\n",
              "\n",
              "  <div class=\"colab-df-container\">\n",
              "    <button class=\"colab-df-convert\" onclick=\"convertToInteractive('df-e26baf53-a311-46a9-8646-a9521b4a8d05')\"\n",
              "            title=\"Convert this dataframe to an interactive table.\"\n",
              "            style=\"display:none;\">\n",
              "\n",
              "  <svg xmlns=\"http://www.w3.org/2000/svg\" height=\"24px\" viewBox=\"0 -960 960 960\">\n",
              "    <path d=\"M120-120v-720h720v720H120Zm60-500h600v-160H180v160Zm220 220h160v-160H400v160Zm0 220h160v-160H400v160ZM180-400h160v-160H180v160Zm440 0h160v-160H620v160ZM180-180h160v-160H180v160Zm440 0h160v-160H620v160Z\"/>\n",
              "  </svg>\n",
              "    </button>\n",
              "\n",
              "  <style>\n",
              "    .colab-df-container {\n",
              "      display:flex;\n",
              "      gap: 12px;\n",
              "    }\n",
              "\n",
              "    .colab-df-convert {\n",
              "      background-color: #E8F0FE;\n",
              "      border: none;\n",
              "      border-radius: 50%;\n",
              "      cursor: pointer;\n",
              "      display: none;\n",
              "      fill: #1967D2;\n",
              "      height: 32px;\n",
              "      padding: 0 0 0 0;\n",
              "      width: 32px;\n",
              "    }\n",
              "\n",
              "    .colab-df-convert:hover {\n",
              "      background-color: #E2EBFA;\n",
              "      box-shadow: 0px 1px 2px rgba(60, 64, 67, 0.3), 0px 1px 3px 1px rgba(60, 64, 67, 0.15);\n",
              "      fill: #174EA6;\n",
              "    }\n",
              "\n",
              "    .colab-df-buttons div {\n",
              "      margin-bottom: 4px;\n",
              "    }\n",
              "\n",
              "    [theme=dark] .colab-df-convert {\n",
              "      background-color: #3B4455;\n",
              "      fill: #D2E3FC;\n",
              "    }\n",
              "\n",
              "    [theme=dark] .colab-df-convert:hover {\n",
              "      background-color: #434B5C;\n",
              "      box-shadow: 0px 1px 3px 1px rgba(0, 0, 0, 0.15);\n",
              "      filter: drop-shadow(0px 1px 2px rgba(0, 0, 0, 0.3));\n",
              "      fill: #FFFFFF;\n",
              "    }\n",
              "  </style>\n",
              "\n",
              "    <script>\n",
              "      const buttonEl =\n",
              "        document.querySelector('#df-e26baf53-a311-46a9-8646-a9521b4a8d05 button.colab-df-convert');\n",
              "      buttonEl.style.display =\n",
              "        google.colab.kernel.accessAllowed ? 'block' : 'none';\n",
              "\n",
              "      async function convertToInteractive(key) {\n",
              "        const element = document.querySelector('#df-e26baf53-a311-46a9-8646-a9521b4a8d05');\n",
              "        const dataTable =\n",
              "          await google.colab.kernel.invokeFunction('convertToInteractive',\n",
              "                                                    [key], {});\n",
              "        if (!dataTable) return;\n",
              "\n",
              "        const docLinkHtml = 'Like what you see? Visit the ' +\n",
              "          '<a target=\"_blank\" href=https://colab.research.google.com/notebooks/data_table.ipynb>data table notebook</a>'\n",
              "          + ' to learn more about interactive tables.';\n",
              "        element.innerHTML = '';\n",
              "        dataTable['output_type'] = 'display_data';\n",
              "        await google.colab.output.renderOutput(dataTable, element);\n",
              "        const docLink = document.createElement('div');\n",
              "        docLink.innerHTML = docLinkHtml;\n",
              "        element.appendChild(docLink);\n",
              "      }\n",
              "    </script>\n",
              "  </div>\n",
              "\n",
              "\n",
              "<div id=\"df-930c4276-405a-415c-8790-851a55a7aa35\">\n",
              "  <button class=\"colab-df-quickchart\" onclick=\"quickchart('df-930c4276-405a-415c-8790-851a55a7aa35')\"\n",
              "            title=\"Suggest charts\"\n",
              "            style=\"display:none;\">\n",
              "\n",
              "<svg xmlns=\"http://www.w3.org/2000/svg\" height=\"24px\"viewBox=\"0 0 24 24\"\n",
              "     width=\"24px\">\n",
              "    <g>\n",
              "        <path d=\"M19 3H5c-1.1 0-2 .9-2 2v14c0 1.1.9 2 2 2h14c1.1 0 2-.9 2-2V5c0-1.1-.9-2-2-2zM9 17H7v-7h2v7zm4 0h-2V7h2v10zm4 0h-2v-4h2v4z\"/>\n",
              "    </g>\n",
              "</svg>\n",
              "  </button>\n",
              "\n",
              "<style>\n",
              "  .colab-df-quickchart {\n",
              "      --bg-color: #E8F0FE;\n",
              "      --fill-color: #1967D2;\n",
              "      --hover-bg-color: #E2EBFA;\n",
              "      --hover-fill-color: #174EA6;\n",
              "      --disabled-fill-color: #AAA;\n",
              "      --disabled-bg-color: #DDD;\n",
              "  }\n",
              "\n",
              "  [theme=dark] .colab-df-quickchart {\n",
              "      --bg-color: #3B4455;\n",
              "      --fill-color: #D2E3FC;\n",
              "      --hover-bg-color: #434B5C;\n",
              "      --hover-fill-color: #FFFFFF;\n",
              "      --disabled-bg-color: #3B4455;\n",
              "      --disabled-fill-color: #666;\n",
              "  }\n",
              "\n",
              "  .colab-df-quickchart {\n",
              "    background-color: var(--bg-color);\n",
              "    border: none;\n",
              "    border-radius: 50%;\n",
              "    cursor: pointer;\n",
              "    display: none;\n",
              "    fill: var(--fill-color);\n",
              "    height: 32px;\n",
              "    padding: 0;\n",
              "    width: 32px;\n",
              "  }\n",
              "\n",
              "  .colab-df-quickchart:hover {\n",
              "    background-color: var(--hover-bg-color);\n",
              "    box-shadow: 0 1px 2px rgba(60, 64, 67, 0.3), 0 1px 3px 1px rgba(60, 64, 67, 0.15);\n",
              "    fill: var(--button-hover-fill-color);\n",
              "  }\n",
              "\n",
              "  .colab-df-quickchart-complete:disabled,\n",
              "  .colab-df-quickchart-complete:disabled:hover {\n",
              "    background-color: var(--disabled-bg-color);\n",
              "    fill: var(--disabled-fill-color);\n",
              "    box-shadow: none;\n",
              "  }\n",
              "\n",
              "  .colab-df-spinner {\n",
              "    border: 2px solid var(--fill-color);\n",
              "    border-color: transparent;\n",
              "    border-bottom-color: var(--fill-color);\n",
              "    animation:\n",
              "      spin 1s steps(1) infinite;\n",
              "  }\n",
              "\n",
              "  @keyframes spin {\n",
              "    0% {\n",
              "      border-color: transparent;\n",
              "      border-bottom-color: var(--fill-color);\n",
              "      border-left-color: var(--fill-color);\n",
              "    }\n",
              "    20% {\n",
              "      border-color: transparent;\n",
              "      border-left-color: var(--fill-color);\n",
              "      border-top-color: var(--fill-color);\n",
              "    }\n",
              "    30% {\n",
              "      border-color: transparent;\n",
              "      border-left-color: var(--fill-color);\n",
              "      border-top-color: var(--fill-color);\n",
              "      border-right-color: var(--fill-color);\n",
              "    }\n",
              "    40% {\n",
              "      border-color: transparent;\n",
              "      border-right-color: var(--fill-color);\n",
              "      border-top-color: var(--fill-color);\n",
              "    }\n",
              "    60% {\n",
              "      border-color: transparent;\n",
              "      border-right-color: var(--fill-color);\n",
              "    }\n",
              "    80% {\n",
              "      border-color: transparent;\n",
              "      border-right-color: var(--fill-color);\n",
              "      border-bottom-color: var(--fill-color);\n",
              "    }\n",
              "    90% {\n",
              "      border-color: transparent;\n",
              "      border-bottom-color: var(--fill-color);\n",
              "    }\n",
              "  }\n",
              "</style>\n",
              "\n",
              "  <script>\n",
              "    async function quickchart(key) {\n",
              "      const quickchartButtonEl =\n",
              "        document.querySelector('#' + key + ' button');\n",
              "      quickchartButtonEl.disabled = true;  // To prevent multiple clicks.\n",
              "      quickchartButtonEl.classList.add('colab-df-spinner');\n",
              "      try {\n",
              "        const charts = await google.colab.kernel.invokeFunction(\n",
              "            'suggestCharts', [key], {});\n",
              "      } catch (error) {\n",
              "        console.error('Error during call to suggestCharts:', error);\n",
              "      }\n",
              "      quickchartButtonEl.classList.remove('colab-df-spinner');\n",
              "      quickchartButtonEl.classList.add('colab-df-quickchart-complete');\n",
              "    }\n",
              "    (() => {\n",
              "      let quickchartButtonEl =\n",
              "        document.querySelector('#df-930c4276-405a-415c-8790-851a55a7aa35 button');\n",
              "      quickchartButtonEl.style.display =\n",
              "        google.colab.kernel.accessAllowed ? 'block' : 'none';\n",
              "    })();\n",
              "  </script>\n",
              "</div>\n",
              "\n",
              "  <div id=\"id_277c6033-86c7-4f6d-b273-dc7dd90f9034\">\n",
              "    <style>\n",
              "      .colab-df-generate {\n",
              "        background-color: #E8F0FE;\n",
              "        border: none;\n",
              "        border-radius: 50%;\n",
              "        cursor: pointer;\n",
              "        display: none;\n",
              "        fill: #1967D2;\n",
              "        height: 32px;\n",
              "        padding: 0 0 0 0;\n",
              "        width: 32px;\n",
              "      }\n",
              "\n",
              "      .colab-df-generate:hover {\n",
              "        background-color: #E2EBFA;\n",
              "        box-shadow: 0px 1px 2px rgba(60, 64, 67, 0.3), 0px 1px 3px 1px rgba(60, 64, 67, 0.15);\n",
              "        fill: #174EA6;\n",
              "      }\n",
              "\n",
              "      [theme=dark] .colab-df-generate {\n",
              "        background-color: #3B4455;\n",
              "        fill: #D2E3FC;\n",
              "      }\n",
              "\n",
              "      [theme=dark] .colab-df-generate:hover {\n",
              "        background-color: #434B5C;\n",
              "        box-shadow: 0px 1px 3px 1px rgba(0, 0, 0, 0.15);\n",
              "        filter: drop-shadow(0px 1px 2px rgba(0, 0, 0, 0.3));\n",
              "        fill: #FFFFFF;\n",
              "      }\n",
              "    </style>\n",
              "    <button class=\"colab-df-generate\" onclick=\"generateWithVariable('df')\"\n",
              "            title=\"Generate code using this dataframe.\"\n",
              "            style=\"display:none;\">\n",
              "\n",
              "  <svg xmlns=\"http://www.w3.org/2000/svg\" height=\"24px\"viewBox=\"0 0 24 24\"\n",
              "       width=\"24px\">\n",
              "    <path d=\"M7,19H8.4L18.45,9,17,7.55,7,17.6ZM5,21V16.75L18.45,3.32a2,2,0,0,1,2.83,0l1.4,1.43a1.91,1.91,0,0,1,.58,1.4,1.91,1.91,0,0,1-.58,1.4L9.25,21ZM18.45,9,17,7.55Zm-12,3A5.31,5.31,0,0,0,4.9,8.1,5.31,5.31,0,0,0,1,6.5,5.31,5.31,0,0,0,4.9,4.9,5.31,5.31,0,0,0,6.5,1,5.31,5.31,0,0,0,8.1,4.9,5.31,5.31,0,0,0,12,6.5,5.46,5.46,0,0,0,6.5,12Z\"/>\n",
              "  </svg>\n",
              "    </button>\n",
              "    <script>\n",
              "      (() => {\n",
              "      const buttonEl =\n",
              "        document.querySelector('#id_277c6033-86c7-4f6d-b273-dc7dd90f9034 button.colab-df-generate');\n",
              "      buttonEl.style.display =\n",
              "        google.colab.kernel.accessAllowed ? 'block' : 'none';\n",
              "\n",
              "      buttonEl.onclick = () => {\n",
              "        google.colab.notebook.generateWithVariable('df');\n",
              "      }\n",
              "      })();\n",
              "    </script>\n",
              "  </div>\n",
              "\n",
              "    </div>\n",
              "  </div>\n"
            ],
            "application/vnd.google.colaboratory.intrinsic+json": {
              "type": "dataframe",
              "variable_name": "df",
              "summary": "{\n  \"name\": \"df\",\n  \"rows\": 7,\n  \"fields\": [\n    {\n      \"column\": \"valor\",\n      \"properties\": {\n        \"dtype\": \"string\",\n        \"num_unique_values\": 7,\n        \"samples\": [\n          \"1,2\",\n          \"44,43\",\n          \"36,4\"\n        ],\n        \"semantic_type\": \"\",\n        \"description\": \"\"\n      }\n    },\n    {\n      \"column\": \"descripcion\",\n      \"properties\": {\n        \"dtype\": \"string\",\n        \"num_unique_values\": 7,\n        \"samples\": [\n          \"Puestos de trabajo en industrias tur\\u00edsticas (2022)\",\n          \"Tasa de informalidad del empleo asalariado tur\\u00edstico (2022)\",\n          \"\\u00cdndice de Gini de viajes tur\\u00edsticos de ocio (2022)\"\n        ],\n        \"semantic_type\": \"\",\n        \"description\": \"\"\n      }\n    }\n  ]\n}"
            }
          },
          "metadata": {},
          "execution_count": 42
        }
      ]
    },
    {
      "cell_type": "markdown",
      "source": [
        "## Ejercicio 3\n",
        "Investigue cómo extraer información de vuelo en la página\n",
        "flybondi.com, haga un programa en python para verificar si bajó el precio de un\n",
        "vuelo determinado."
      ],
      "metadata": {
        "id": "KCniKurnUOdA"
      }
    },
    {
      "cell_type": "code",
      "source": [
        "url = \"https://flybondi.com/ar/search/results?adults=2&children=0&currency=ARS&departureDate=2024-04-27&fromCityCode=BUE&infants=0&returnDate=2024-05-01&toCityCode=BRC&utm_origin=search_bar/\"\n",
        "\n",
        "response = requests.get(url)\n",
        "response.encoding = 'utf-8'  # Establece la codificación a utf-8\n",
        "soup = BeautifulSoup(response.text, 'html.parser')\n",
        "\n",
        "# Encuentra todos los elementos <div> con la clase \"jsx-3759278058 f4\"\n",
        "price_elements = soup.find_all('div', class_='ph3 ph0-l')\n",
        "\n",
        "\n",
        "# Extrae el texto de cada elemento de precio y lo imprime\n",
        "for price_element in price_elements:\n",
        "    price = price_element.text  # Elimina espacios en blanco al principio y al final\n",
        "    print(price)\n",
        "\n"
      ],
      "metadata": {
        "id": "tRsyKaKNCgZF"
      },
      "execution_count": 43,
      "outputs": []
    },
    {
      "cell_type": "markdown",
      "source": [
        "## Ejercicio 4\n",
        "Con el objetivo de estudiar la serie de tipo de cambio oficial y su\n",
        "volatilidad de forma visual. Utilice una librería de web scraping y elija una dirección\n",
        "que posea esta información en una frecuencia diaria y recolecte esa información\n",
        "(por ejemplo dolarhoy.com). Documente el proceso debidamente.\n",
        "Opcional: Una vez obtenidos los datos requeridos realice una gráfica que muestre la\n",
        "serie y calcule los valores promedio mensual de la serie. Su máximo valor y su\n",
        "mínimo. Presente los datos por pantalla en forma ordenada."
      ],
      "metadata": {
        "id": "UsELdQwkUSgS"
      }
    },
    {
      "cell_type": "markdown",
      "source": [
        "## Ejercicio 5\n",
        "Obtener los libros en formato pdf de la página del autor argentino\n",
        "Hernán Casciari de la editorial Orsai, estos textos son de libre utilización. Pasar a un\n",
        "archivo pkl el texto de los libros en pdf."
      ],
      "metadata": {
        "id": "gNUXMh9mUWLE"
      }
    },
    {
      "cell_type": "markdown",
      "source": [
        "## Ejercicio 6\n",
        "Realizar en Colab un script Python que haga los siguientes pasos:"
      ],
      "metadata": {
        "id": "_qC4MrnOUZUw"
      }
    },
    {
      "cell_type": "markdown",
      "source": [
        "### i.\n",
        "Obtener el HTML de la página https://es.wikipedia.org/wiki/Argentina"
      ],
      "metadata": {
        "id": "7FjHXnroUe4V"
      }
    },
    {
      "cell_type": "markdown",
      "source": [
        "### ii.\n",
        "Con BeautifulSoup, Obtener el texto contenido en el <div> cuyo id='mw-\n",
        "content-text’"
      ],
      "metadata": {
        "id": "XZxXtgxoUjQl"
      }
    },
    {
      "cell_type": "markdown",
      "source": [
        "### iii.\n",
        "Aplicar RecursiveCharacterTextSplitter con los parámetros chunk_size = 300 en\n",
        "el texto de wikipedia."
      ],
      "metadata": {
        "id": "f4js9ijsUr7G"
      }
    },
    {
      "cell_type": "markdown",
      "source": [
        "### iv.\n",
        "Aplicar RecursiveCharacterTextSplitter con los parámetros chunk_size = 300,\n",
        "separators = [\"\\n\\n\", \"\\n\"] en el texto de wikipedia."
      ],
      "metadata": {
        "id": "a1zon_DqUs_H"
      }
    },
    {
      "cell_type": "markdown",
      "source": [
        "### v.\n",
        "Aplicar CharacterTextSplitter() en el texto de wikipedia."
      ],
      "metadata": {
        "id": "fGm5SsnsUwKD"
      }
    },
    {
      "cell_type": "markdown",
      "source": [
        "### vi.\n",
        "En cada caso, graficar el histograma de como se distribuyen los tamaños de\n",
        "los segmentos (chunks) y sacar conclusiones."
      ],
      "metadata": {
        "id": "vLMQcAgWUzRp"
      }
    },
    {
      "cell_type": "markdown",
      "source": [
        "## Ejercicio 7\n",
        "En la siguiente carpeta,\n",
        "https://drive.google.com/drive/folders/1iCiOQ8P8CHFFLKiWc2li9-x3Ud-Tl0po?usp=drive_link\n",
        "podrá descargar recursos que presentan algunos desafios para la extracción de\n",
        "texto. Practique los códigos y librerías propuestos en la Unidad 1 y compare los\n",
        "resultados con sus compañer@s."
      ],
      "metadata": {
        "id": "b8-L4xzXU6px"
      }
    },
    {
      "cell_type": "markdown",
      "source": [
        "###i"
      ],
      "metadata": {
        "id": "96lIpZW-sqKu"
      }
    },
    {
      "cell_type": "code",
      "source": [
        "# Ruta al archivo PDF\n",
        "archivo_pdf = ruta+'(INTRODUCTION TO THE THEORY OF STATISTICS) Alexander, Franklin Graybill and Duane Boes Mood - Introduccion a la teoria de la Estadistica-Aguilar (1969).pdf'\n",
        "\n",
        "\n",
        "# Convierte el PDF en una lista de imágenes\n",
        "imagenes = convert_from_path(archivo_pdf)\n",
        "\n",
        "# Guarda las imágenes\n",
        "for i, imagen in enumerate(imagenes[:16]):\n",
        "    imagen.save('pagina{}.png'.format(i), 'PNG')\n",
        "\n",
        "# Ruta a la imagen\n",
        "archivo_imagen = 'pagina15.png'\n",
        "\n",
        "# Abre la imagen\n",
        "imagen = Image.open(archivo_imagen)\n",
        "\n",
        "# Usa pytesseract para convertir la imagen en texto\n",
        "texto = pytesseract.image_to_string(imagen)\n",
        "\n",
        "# Configurar el corrector ortográfico para español\n",
        "spell = Speller(lang=\"es\")\n",
        "texto = re.sub(r'-+\\n', '', texto) #elimina guiones y saltos de línea\n",
        "texto = re.sub(r'\\n', ' ', texto) #elimina saltos de línea por espacios\n",
        "texto_corregido=spell(texto)\n",
        "\n",
        "# Mostrar el texto en un formato más legible\n",
        "display(Markdown(texto_corregido))"
      ],
      "metadata": {
        "id": "9KQQT-2fiE9f",
        "colab": {
          "base_uri": "https://localhost:8080/",
          "height": 289
        },
        "outputId": "4ffda146-5caf-4781-bc82-7277bd7f9252"
      },
      "execution_count": 44,
      "outputs": [
        {
          "output_type": "display_data",
          "data": {
            "text/plain": [
              "<IPython.core.display.Markdown object>"
            ],
            "text/markdown": "capitulo 1 INTRODUCCION  1-1. Estadistica.—Para situar este libro en la perspectiva adecuada es necesario que empecemos por considerar qué es la estadistica. La concepción profana de estadistica suele incluir la recogida de grandes masas de datos y la presentación de estos en tablas 0 graficos; puede incluir también el cálculo de totales, promedios, porcentajes, etc. En todo caso, estas operaciones, més 0 menos rutinarias, son una parte, pero solo una parte incidental de la estadistica. Estadistica es también el diseño de experimentos, el diseño de sobrevisiones muestras, la reducción y el proceso de datos, y otras muchas cuestiones.  Describiremos la estadistica como la tecnologia del método cientifico. La estadistica proporciona instrumentos para la toma de decisiones cuando prevalecen condiciones de incertidumbre. Estos instrumentos pueden ser de aplicación y utilidad completamente general en cualquier campo de la ciencia: físico, biológico, social, etcétera. Son aplicables no solo en el mundo cientifico, sino también en el de la empresa y en el de los asuntos cotidianos. Por otra parte, ciertos instrumentos pueden estar especialmente diseñados para campos especiales de la investigación.  La estadistica puede dividirse en dos amplias ramas: 1) estadistica descriptiva, que est4 relacionada con el resumen de datos y la descripción. de estos; 2) estadistica inferencial, relacionada con el proceso de utilizar datos para tomar decisiones en el caso mds general del gue forman parte estos datos. El proceso de tomar decisiones en situaciones generales, sobre la base de una información incompleta contenida en datos muestras, es arriesgado y no puede realizarse con certeza; la probabilidad es una medida de esta incertidumbre. Hay dos tipos de incertidumbre con los que tenemos que enfrentarnos: 1) la incertidumbre debida a la aleatoriedad, y 2) la incertidumbre debida a nuestra ignorancia del verdadero estado del sistema. Lo acabaremos con un ejemplo.  La compania A cultiva cierta clase de plantas, recoleccion las semillas y las envase en paquetes de 25 semillas cada uno. Un almacén de venta al por menor adquiere algunos de los paquetes y garantiza a sus compradores que 22 al menos de las 25 semillas de cada paquete crecerán; en caso contrario, les dar4 otro paquete libre de todo gasto. El almacenista tiene dos tipos de incertidumbre  3 \f"
          },
          "metadata": {}
        }
      ]
    },
    {
      "cell_type": "markdown",
      "source": [
        "###ii"
      ],
      "metadata": {
        "id": "jpyfCCYPswVc"
      }
    },
    {
      "cell_type": "code",
      "source": [
        "# Ruta al archivo PDF\n",
        "libro = ruta+'el_principito_saint_exupery.pdf'\n",
        "\n",
        "# Abre el archivo en modo binario de lectura ('rb')\n",
        "with open(libro, 'rb') as archivo:\n",
        "    # Crea un objeto PdfFileReader\n",
        "    lector = PyPDF2.PdfReader (archivo)\n",
        "\n",
        "    # Inicializa una cadena vacía para almacenar el texto\n",
        "    texto = ''\n",
        "\n",
        "    # Itera sobre todas las páginas del PDF\n",
        "    for i in range(len(lector.pages)):\n",
        "        # Obtiene la página\n",
        "        pagina = lector.pages[i]\n",
        "\n",
        "        # Extrae el texto de la página y lo añade a la cadena de texto\n",
        "        texto += pagina.extract_text()\n",
        "\n",
        "# Configurar el corrector ortográfico para español\n",
        "spell = Speller(lang=\"es\")\n",
        "texto = re.sub(r'-+\\n', '', texto) #elimina guiones y saltos de línea\n",
        "texto = re.sub(r'\\n', ' ', texto) #elimina saltos de línea por espacios\n",
        "\n",
        "# Mostrar el texto en un formato más legible\n",
        "display(Markdown(texto_corregido))"
      ],
      "metadata": {
        "colab": {
          "base_uri": "https://localhost:8080/",
          "height": 289
        },
        "id": "uuG21RNSsz7d",
        "outputId": "781bfb25-396a-420d-a962-bc85631921b4"
      },
      "execution_count": 47,
      "outputs": [
        {
          "output_type": "display_data",
          "data": {
            "text/plain": [
              "<IPython.core.display.Markdown object>"
            ],
            "text/markdown": "capitulo 1 INTRODUCCION  1-1. Estadistica.—Para situar este libro en la perspectiva adecuada es necesario que empecemos por considerar qué es la estadistica. La concepción profana de estadistica suele incluir la recogida de grandes masas de datos y la presentación de estos en tablas 0 graficos; puede incluir también el cálculo de totales, promedios, porcentajes, etc. En todo caso, estas operaciones, més 0 menos rutinarias, son una parte, pero solo una parte incidental de la estadistica. Estadistica es también el diseño de experimentos, el diseño de sobrevisiones muestras, la reducción y el proceso de datos, y otras muchas cuestiones.  Describiremos la estadistica como la tecnologia del método cientifico. La estadistica proporciona instrumentos para la toma de decisiones cuando prevalecen condiciones de incertidumbre. Estos instrumentos pueden ser de aplicación y utilidad completamente general en cualquier campo de la ciencia: físico, biológico, social, etcétera. Son aplicables no solo en el mundo cientifico, sino también en el de la empresa y en el de los asuntos cotidianos. Por otra parte, ciertos instrumentos pueden estar especialmente diseñados para campos especiales de la investigación.  La estadistica puede dividirse en dos amplias ramas: 1) estadistica descriptiva, que est4 relacionada con el resumen de datos y la descripción. de estos; 2) estadistica inferencial, relacionada con el proceso de utilizar datos para tomar decisiones en el caso mds general del gue forman parte estos datos. El proceso de tomar decisiones en situaciones generales, sobre la base de una información incompleta contenida en datos muestras, es arriesgado y no puede realizarse con certeza; la probabilidad es una medida de esta incertidumbre. Hay dos tipos de incertidumbre con los que tenemos que enfrentarnos: 1) la incertidumbre debida a la aleatoriedad, y 2) la incertidumbre debida a nuestra ignorancia del verdadero estado del sistema. Lo acabaremos con un ejemplo.  La compania A cultiva cierta clase de plantas, recoleccion las semillas y las envase en paquetes de 25 semillas cada uno. Un almacén de venta al por menor adquiere algunos de los paquetes y garantiza a sus compradores que 22 al menos de las 25 semillas de cada paquete crecerán; en caso contrario, les dar4 otro paquete libre de todo gasto. El almacenista tiene dos tipos de incertidumbre  3 \f"
          },
          "metadata": {}
        }
      ]
    },
    {
      "cell_type": "markdown",
      "source": [
        "###iii"
      ],
      "metadata": {
        "id": "SMH5FlLjlh02"
      }
    },
    {
      "cell_type": "code",
      "source": [
        "file_path = ruta+'125cuentos.txt'\n",
        "\n",
        "# Abre el archivo en modo de lectura ('r')\n",
        "with open(file_path, 'r', encoding='utf-8') as archivo:\n",
        "    # Lee todo el contenido del archivo\n",
        "    texto = archivo.read()\n",
        "\n",
        "texto = re.sub(r' -+\\n', '', texto) #elimina guiones y saltos de línea\n",
        "texto = re.sub(r'\\n', ' ', texto) #elimina saltos de línea por espacios\n",
        "# Imprime el contenido del archivo\n",
        "\n",
        "# Mostrar el texto en un formato más legible\n",
        "display(Markdown(texto))"
      ],
      "metadata": {
        "id": "86mVa1BCxZGL"
      },
      "execution_count": null,
      "outputs": []
    }
  ]
}